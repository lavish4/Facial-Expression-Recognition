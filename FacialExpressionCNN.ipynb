{
  "nbformat": 4,
  "nbformat_minor": 0,
  "metadata": {
    "colab": {
      "name": "FacialExpressionCNN.ipynb",
      "version": "0.3.2",
      "provenance": [],
      "collapsed_sections": []
    },
    "kernelspec": {
      "name": "python3",
      "display_name": "Python 3"
    },
    "accelerator": "GPU"
  },
  "cells": [
    {
      "cell_type": "code",
      "metadata": {
        "id": "nG6NyLhIsFql",
        "colab_type": "code",
        "colab": {}
      },
      "source": [
        "from google.colab import drive"
      ],
      "execution_count": 0,
      "outputs": []
    },
    {
      "cell_type": "code",
      "metadata": {
        "id": "PcymOBVKtyPp",
        "colab_type": "code",
        "outputId": "209a0d42-b511-4393-9ceb-94c17b706eb1",
        "colab": {
          "base_uri": "https://localhost:8080/",
          "height": 85
        }
      },
      "source": [
        "!ls \"/content/drive/My Drive/fer2013\""
      ],
      "execution_count": 0,
      "outputs": [
        {
          "output_type": "stream",
          "text": [
            "fer2013.bib\t\t\t     jaffe\t   tempimg.jpg\n",
            "fer2013.csv\t\t\t     my_model.h5   test_video.py\n",
            "fer2013model.ipynb\t\t     my_models.h5\n",
            "haarcascade_frontalface_default.xml  README\n"
          ],
          "name": "stdout"
        }
      ]
    },
    {
      "cell_type": "code",
      "metadata": {
        "id": "mI_dxrkEt_4t",
        "colab_type": "code",
        "colab": {}
      },
      "source": [
        "import pandas as pd\n",
        "\n",
        "data=pd.read_csv(\"/content/drive/My Drive/fer2013/fer2013.csv\")"
      ],
      "execution_count": 0,
      "outputs": []
    },
    {
      "cell_type": "code",
      "metadata": {
        "id": "IvRWbx7zw4Th",
        "colab_type": "code",
        "outputId": "6343c0d4-5937-4f9c-d698-79f1d05d0dd3",
        "colab": {
          "base_uri": "https://localhost:8080/",
          "height": 34
        }
      },
      "source": [
        "import numpy as np\n",
        "import matplotlib.pyplot as plt\n",
        "from keras.utils import to_categorical\n",
        "from keras.losses import categorical_crossentropy\n",
        "import keras\n",
        "from keras.models import Sequential\n",
        "from keras.layers import Conv2D,Flatten,Dropout,MaxPooling2D,Dense\n",
        "from sklearn.model_selection import train_test_split\n"
      ],
      "execution_count": 0,
      "outputs": [
        {
          "output_type": "stream",
          "text": [
            "Using TensorFlow backend.\n"
          ],
          "name": "stderr"
        }
      ]
    },
    {
      "cell_type": "code",
      "metadata": {
        "id": "4rZ-j2vxvL0t",
        "colab_type": "code",
        "outputId": "53011c30-68ef-408b-f9c2-3f1282c58c13",
        "colab": {
          "base_uri": "https://localhost:8080/",
          "height": 359
        }
      },
      "source": [
        "data.head(10)"
      ],
      "execution_count": 0,
      "outputs": [
        {
          "output_type": "execute_result",
          "data": {
            "text/html": [
              "<div>\n",
              "<style scoped>\n",
              "    .dataframe tbody tr th:only-of-type {\n",
              "        vertical-align: middle;\n",
              "    }\n",
              "\n",
              "    .dataframe tbody tr th {\n",
              "        vertical-align: top;\n",
              "    }\n",
              "\n",
              "    .dataframe thead th {\n",
              "        text-align: right;\n",
              "    }\n",
              "</style>\n",
              "<table border=\"1\" class=\"dataframe\">\n",
              "  <thead>\n",
              "    <tr style=\"text-align: right;\">\n",
              "      <th></th>\n",
              "      <th>emotion</th>\n",
              "      <th>pixels</th>\n",
              "      <th>Usage</th>\n",
              "    </tr>\n",
              "  </thead>\n",
              "  <tbody>\n",
              "    <tr>\n",
              "      <th>0</th>\n",
              "      <td>0</td>\n",
              "      <td>70 80 82 72 58 58 60 63 54 58 60 48 89 115 121...</td>\n",
              "      <td>Training</td>\n",
              "    </tr>\n",
              "    <tr>\n",
              "      <th>1</th>\n",
              "      <td>0</td>\n",
              "      <td>151 150 147 155 148 133 111 140 170 174 182 15...</td>\n",
              "      <td>Training</td>\n",
              "    </tr>\n",
              "    <tr>\n",
              "      <th>2</th>\n",
              "      <td>2</td>\n",
              "      <td>231 212 156 164 174 138 161 173 182 200 106 38...</td>\n",
              "      <td>Training</td>\n",
              "    </tr>\n",
              "    <tr>\n",
              "      <th>3</th>\n",
              "      <td>4</td>\n",
              "      <td>24 32 36 30 32 23 19 20 30 41 21 22 32 34 21 1...</td>\n",
              "      <td>Training</td>\n",
              "    </tr>\n",
              "    <tr>\n",
              "      <th>4</th>\n",
              "      <td>6</td>\n",
              "      <td>4 0 0 0 0 0 0 0 0 0 0 0 3 15 23 28 48 50 58 84...</td>\n",
              "      <td>Training</td>\n",
              "    </tr>\n",
              "    <tr>\n",
              "      <th>5</th>\n",
              "      <td>2</td>\n",
              "      <td>55 55 55 55 55 54 60 68 54 85 151 163 170 179 ...</td>\n",
              "      <td>Training</td>\n",
              "    </tr>\n",
              "    <tr>\n",
              "      <th>6</th>\n",
              "      <td>4</td>\n",
              "      <td>20 17 19 21 25 38 42 42 46 54 56 62 63 66 82 1...</td>\n",
              "      <td>Training</td>\n",
              "    </tr>\n",
              "    <tr>\n",
              "      <th>7</th>\n",
              "      <td>3</td>\n",
              "      <td>77 78 79 79 78 75 60 55 47 48 58 73 77 79 57 5...</td>\n",
              "      <td>Training</td>\n",
              "    </tr>\n",
              "    <tr>\n",
              "      <th>8</th>\n",
              "      <td>3</td>\n",
              "      <td>85 84 90 121 101 102 133 153 153 169 177 189 1...</td>\n",
              "      <td>Training</td>\n",
              "    </tr>\n",
              "    <tr>\n",
              "      <th>9</th>\n",
              "      <td>2</td>\n",
              "      <td>255 254 255 254 254 179 122 107 95 124 149 150...</td>\n",
              "      <td>Training</td>\n",
              "    </tr>\n",
              "  </tbody>\n",
              "</table>\n",
              "</div>"
            ],
            "text/plain": [
              "   emotion                                             pixels     Usage\n",
              "0        0  70 80 82 72 58 58 60 63 54 58 60 48 89 115 121...  Training\n",
              "1        0  151 150 147 155 148 133 111 140 170 174 182 15...  Training\n",
              "2        2  231 212 156 164 174 138 161 173 182 200 106 38...  Training\n",
              "3        4  24 32 36 30 32 23 19 20 30 41 21 22 32 34 21 1...  Training\n",
              "4        6  4 0 0 0 0 0 0 0 0 0 0 0 3 15 23 28 48 50 58 84...  Training\n",
              "5        2  55 55 55 55 55 54 60 68 54 85 151 163 170 179 ...  Training\n",
              "6        4  20 17 19 21 25 38 42 42 46 54 56 62 63 66 82 1...  Training\n",
              "7        3  77 78 79 79 78 75 60 55 47 48 58 73 77 79 57 5...  Training\n",
              "8        3  85 84 90 121 101 102 133 153 153 169 177 189 1...  Training\n",
              "9        2  255 254 255 254 254 179 122 107 95 124 149 150...  Training"
            ]
          },
          "metadata": {
            "tags": []
          },
          "execution_count": 6
        }
      ]
    },
    {
      "cell_type": "code",
      "metadata": {
        "id": "nlwVlvAm-PZd",
        "colab_type": "code",
        "outputId": "61976d66-a04a-4410-bb17-8040cda53412",
        "colab": {
          "base_uri": "https://localhost:8080/",
          "height": 51
        }
      },
      "source": [
        "num_features = 64\n",
        "num_labels = 7\n",
        "width, height = 48, 48\n",
        "pixels = data['pixels'].tolist() \n",
        "\n",
        "faces = []\n",
        "for pixel_sequence in pixels:\n",
        "    face = [int(pixel) for pixel in pixel_sequence.split(' ')] \n",
        "    face=np.asarray(face).reshape(width,height)\n",
        "    faces.append(face)\n",
        "faces = np.asarray(faces)\n",
        "faces = np.expand_dims(faces, -1) \n",
        "\n",
        "emotions = pd.get_dummies(data['emotion']).as_matrix()"
      ],
      "execution_count": 0,
      "outputs": [
        {
          "output_type": "stream",
          "text": [
            "/usr/local/lib/python3.6/dist-packages/ipykernel_launcher.py:14: FutureWarning: Method .as_matrix will be removed in a future version. Use .values instead.\n",
            "  \n"
          ],
          "name": "stderr"
        }
      ]
    },
    {
      "cell_type": "code",
      "metadata": {
        "id": "MKq2PQEfpOcB",
        "colab_type": "code",
        "colab": {}
      },
      "source": [
        ""
      ],
      "execution_count": 0,
      "outputs": []
    },
    {
      "cell_type": "code",
      "metadata": {
        "id": "MPyOSb-Y-bhy",
        "colab_type": "code",
        "outputId": "2a4c987b-cc7b-446e-98e3-6ee0d325c645",
        "colab": {
          "base_uri": "https://localhost:8080/",
          "height": 51
        }
      },
      "source": [
        "print(faces.shape)\n",
        "print(emotions.shape)"
      ],
      "execution_count": 0,
      "outputs": [
        {
          "output_type": "stream",
          "text": [
            "(35887, 48, 48, 1)\n",
            "(35887, 7)\n"
          ],
          "name": "stdout"
        }
      ]
    },
    {
      "cell_type": "code",
      "metadata": {
        "id": "MZZ1GvBRwWs1",
        "colab_type": "code",
        "colab": {}
      },
      "source": [
        "X_train, X_test, y_train, y_test = train_test_split(faces,emotions, test_size=0.2, random_state=42)\n"
      ],
      "execution_count": 0,
      "outputs": []
    },
    {
      "cell_type": "code",
      "metadata": {
        "id": "tolCtSU2-l0F",
        "colab_type": "code",
        "outputId": "0aeaa15f-1126-47ca-9c8d-4e6fc719122b",
        "colab": {
          "base_uri": "https://localhost:8080/",
          "height": 51
        }
      },
      "source": [
        "X_train = np.array(X_train, 'float32')\n",
        "y_train = np.array(y_train, 'float32')\n",
        "X_test = np.array(X_test, 'float32')\n",
        "y_test = np.array(y_test, 'float32')\n",
        "\n",
        "X_train=X_train/255\n",
        "X_test=X_test/255\n",
        "\n",
        "X_train = X_train.reshape(X_train.shape[0], 48, 48, 1)\n",
        "X_train = X_train.astype('float32')\n",
        "X_test = X_test.reshape(X_test.shape[0], 48, 48, 1)\n",
        "X_test = X_test.astype('float32')\n",
        "\n",
        "print(X_train.shape[0], 'train samples')\n",
        "print(X_test.shape[0], 'test samples')"
      ],
      "execution_count": 0,
      "outputs": [
        {
          "output_type": "stream",
          "text": [
            "28709 train samples\n",
            "7178 test samples\n"
          ],
          "name": "stdout"
        }
      ]
    },
    {
      "cell_type": "code",
      "metadata": {
        "id": "0aC7GWx236SG",
        "colab_type": "code",
        "outputId": "f5f03720-ab2f-4de2-eb32-654df65bccca",
        "colab": {
          "base_uri": "https://localhost:8080/",
          "height": 34
        }
      },
      "source": [
        "print(len(y_train.shape))"
      ],
      "execution_count": 0,
      "outputs": [
        {
          "output_type": "stream",
          "text": [
            "2\n"
          ],
          "name": "stdout"
        }
      ]
    },
    {
      "cell_type": "code",
      "metadata": {
        "id": "lAiUEEZQFmdR",
        "colab_type": "code",
        "colab": {}
      },
      "source": [
        "from keras.preprocessing.image import ImageDataGenerator\n",
        "from sklearn.model_selection import train_test_split\n",
        "from keras.layers import Activation, Convolution2D, Dropout, Conv2D\n",
        "from keras.layers import AveragePooling2D, BatchNormalization\n",
        "from keras.layers import GlobalAveragePooling2D\n",
        "from keras.models import Sequential\n",
        "from keras.layers import Flatten\n",
        "from keras.models import Model\n",
        "from keras.layers import Input\n",
        "from keras.layers import MaxPooling2D\n",
        "from keras.layers import SeparableConv2D\n",
        "from keras import layers\n",
        "from keras.regularizers import l2\n",
        "import pandas as pd\n",
        "import cv2\n",
        "import numpy as np\n",
        "\n"
      ],
      "execution_count": 0,
      "outputs": []
    },
    {
      "cell_type": "code",
      "metadata": {
        "id": "5kijTPbqFzIZ",
        "colab_type": "code",
        "colab": {}
      },
      "source": [
        "batch_size = 256\n",
        "num_epochs = 30\n",
        "input_shape = (48, 48, 1)\n",
        "verbose = 1\n",
        "num_classes = 7\n",
        " \n",
        "\"\"\"data_generator = ImageDataGenerator(\n",
        "                        featurewise_center=False,\n",
        "                        featurewise_std_normalization=False,\n",
        "                        rotation_range=10,\n",
        "                        width_shift_range=0.1,\n",
        "                        height_shift_range=0.1,\n",
        "                        zoom_range=.1,\n",
        "                        horizontal_flip=True)\n",
        " \"\"\"\n",
        "gen = ImageDataGenerator()\n",
        "train_generator = gen.flow(X_train, y_train, batch_size=batch_size)\n",
        "\n",
        "model = Sequential()\n",
        "\n",
        "model.add(Conv2D(64, (5, 5), activation='relu', input_shape=(48,48,1)))\n",
        "model.add(MaxPooling2D(pool_size=(5,5), strides=(2, 2)))\n",
        "\n",
        "model.add(Conv2D(64, (3, 3), activation='relu'))\n",
        "model.add(Conv2D(64, (3, 3), activation='relu'))\n",
        "model.add(AveragePooling2D(pool_size=(3,3), strides=(2, 2)))\n",
        "\n",
        "model.add(Conv2D(128, (3, 3), activation='relu'))\n",
        "model.add(Conv2D(128, (3, 3), activation='relu'))\n",
        "model.add(AveragePooling2D(pool_size=(3,3), strides=(2, 2)))\n",
        "\n",
        "model.add(Flatten())\n",
        "\n",
        "model.add(Dense(2048, activation='relu'))\n",
        "model.add(Dropout(0.2))\n",
        "model.add(Dense(1024, activation='relu'))\n",
        "model.add(Dropout(0.2))\n",
        "model.add(Dense(512, activation='relu'))\n",
        "model.add(Dropout(0.2))\n",
        "model.add(Dense(num_classes, activation='softmax'))\n",
        "\n",
        "model.compile(optimizer='adam', loss='categorical_crossentropy',metrics=['accuracy'])\n",
        " \n"
      ],
      "execution_count": 0,
      "outputs": []
    },
    {
      "cell_type": "code",
      "metadata": {
        "id": "Lgc-bFWRGAjg",
        "colab_type": "code",
        "outputId": "ec7e9c2f-cf75-4d3d-836c-8d2379c57063",
        "colab": {
          "base_uri": "https://localhost:8080/",
          "height": 1054
        }
      },
      "source": [
        "model.fit_generator(train_generator, steps_per_epoch=batch_size, epochs=num_epochs)"
      ],
      "execution_count": 0,
      "outputs": [
        {
          "output_type": "stream",
          "text": [
            "Epoch 1/30\n",
            "256/256 [==============================] - 11s 43ms/step - loss: 1.7775 - acc: 0.2705\n",
            "Epoch 2/30\n",
            "256/256 [==============================] - 8s 32ms/step - loss: 1.5203 - acc: 0.3969\n",
            "Epoch 3/30\n",
            "256/256 [==============================] - 8s 32ms/step - loss: 1.3704 - acc: 0.4674\n",
            "Epoch 4/30\n",
            "256/256 [==============================] - 8s 32ms/step - loss: 1.2721 - acc: 0.5105\n",
            "Epoch 5/30\n",
            "256/256 [==============================] - 8s 32ms/step - loss: 1.1997 - acc: 0.5453\n",
            "Epoch 6/30\n",
            "256/256 [==============================] - 8s 31ms/step - loss: 1.1407 - acc: 0.5699\n",
            "Epoch 7/30\n",
            "256/256 [==============================] - 8s 31ms/step - loss: 1.0762 - acc: 0.5928\n",
            "Epoch 8/30\n",
            "256/256 [==============================] - 8s 31ms/step - loss: 1.0214 - acc: 0.6146\n",
            "Epoch 9/30\n",
            "256/256 [==============================] - 8s 31ms/step - loss: 0.9453 - acc: 0.6447\n",
            "Epoch 10/30\n",
            "256/256 [==============================] - 8s 31ms/step - loss: 0.8912 - acc: 0.6645\n",
            "Epoch 11/30\n",
            "256/256 [==============================] - 8s 31ms/step - loss: 0.8249 - acc: 0.6902\n",
            "Epoch 12/30\n",
            "256/256 [==============================] - 8s 31ms/step - loss: 0.7483 - acc: 0.7230\n",
            "Epoch 13/30\n",
            "256/256 [==============================] - 8s 31ms/step - loss: 0.6875 - acc: 0.7454\n",
            "Epoch 14/30\n",
            "256/256 [==============================] - 8s 31ms/step - loss: 0.6164 - acc: 0.7730\n",
            "Epoch 15/30\n",
            "256/256 [==============================] - 8s 32ms/step - loss: 0.5520 - acc: 0.7974\n",
            "Epoch 16/30\n",
            "256/256 [==============================] - 8s 31ms/step - loss: 0.4846 - acc: 0.8231\n",
            "Epoch 17/30\n",
            "256/256 [==============================] - 8s 31ms/step - loss: 0.4386 - acc: 0.8402\n",
            "Epoch 18/30\n",
            "256/256 [==============================] - 8s 31ms/step - loss: 0.3862 - acc: 0.8610\n",
            "Epoch 19/30\n",
            "256/256 [==============================] - 8s 31ms/step - loss: 0.3514 - acc: 0.8733\n",
            "Epoch 20/30\n",
            "256/256 [==============================] - 8s 31ms/step - loss: 0.3119 - acc: 0.8890\n",
            "Epoch 21/30\n",
            "256/256 [==============================] - 8s 31ms/step - loss: 0.2681 - acc: 0.9040\n",
            "Epoch 22/30\n",
            "256/256 [==============================] - 8s 31ms/step - loss: 0.2385 - acc: 0.9148\n",
            "Epoch 23/30\n",
            "256/256 [==============================] - 8s 31ms/step - loss: 0.2125 - acc: 0.9244\n",
            "Epoch 24/30\n",
            "256/256 [==============================] - 8s 32ms/step - loss: 0.1947 - acc: 0.9314\n",
            "Epoch 25/30\n",
            "256/256 [==============================] - 8s 32ms/step - loss: 0.1756 - acc: 0.9375\n",
            "Epoch 26/30\n",
            "256/256 [==============================] - 8s 31ms/step - loss: 0.1738 - acc: 0.9379\n",
            "Epoch 27/30\n",
            "256/256 [==============================] - 8s 31ms/step - loss: 0.1460 - acc: 0.9489\n",
            "Epoch 28/30\n",
            "256/256 [==============================] - 8s 31ms/step - loss: 0.1258 - acc: 0.9559\n",
            "Epoch 29/30\n",
            "256/256 [==============================] - 8s 31ms/step - loss: 0.1308 - acc: 0.9540\n",
            "Epoch 30/30\n",
            "256/256 [==============================] - 8s 31ms/step - loss: 0.1208 - acc: 0.9567\n"
          ],
          "name": "stdout"
        },
        {
          "output_type": "execute_result",
          "data": {
            "text/plain": [
              "<keras.callbacks.History at 0x7f59ba56a128>"
            ]
          },
          "metadata": {
            "tags": []
          },
          "execution_count": 59
        }
      ]
    },
    {
      "cell_type": "code",
      "metadata": {
        "id": "VvVvHNqy71Qx",
        "colab_type": "code",
        "outputId": "c12fa230-8ff8-44a4-a808-0aeb82ce54b8",
        "colab": {
          "base_uri": "https://localhost:8080/",
          "height": 51
        }
      },
      "source": [
        "predictions=model.predict(X_test)\n",
        "acc = model.evaluate(X_test, y_test)\n",
        "print(acc[1])"
      ],
      "execution_count": 0,
      "outputs": [
        {
          "output_type": "stream",
          "text": [
            "7178/7178 [==============================] - 2s 236us/step\n",
            "0.5824742268124276\n"
          ],
          "name": "stdout"
        }
      ]
    },
    {
      "cell_type": "markdown",
      "metadata": {
        "id": "O_dKRwqbY2tB",
        "colab_type": "text"
      },
      "source": [
        ""
      ]
    },
    {
      "cell_type": "code",
      "metadata": {
        "id": "tKvG8RHeYB2L",
        "colab_type": "code",
        "outputId": "6b7f75f2-34d8-40dd-c71d-b7959f8935d2",
        "colab": {
          "base_uri": "https://localhost:8080/",
          "height": 34
        }
      },
      "source": [
        "print(X_test.shape)"
      ],
      "execution_count": 0,
      "outputs": [
        {
          "output_type": "stream",
          "text": [
            "(7178, 48, 48, 1)\n"
          ],
          "name": "stdout"
        }
      ]
    },
    {
      "cell_type": "code",
      "metadata": {
        "id": "7dwC-eCkElGs",
        "colab_type": "code",
        "colab": {}
      },
      "source": [
        "model.save('/content/drive/My Drive/fer2013/my_models.h5') "
      ],
      "execution_count": 0,
      "outputs": []
    },
    {
      "cell_type": "code",
      "metadata": {
        "id": "_XNG50PgEwaK",
        "colab_type": "code",
        "colab": {}
      },
      "source": [
        "from keras.models import load_model\n",
        "import cv2\n",
        "emotion_dict = {0: \"Angry\", 1: \"Disgust\", 2: \"Fear\", 3: \"Happy\", 4: \"Sad\", 5: \"Surprise\", 6: \"Neutral\"}\n",
        "\n",
        "model = load_model('/content/drive/My Drive/fer2013/my_models.h5')\n",
        "\n",
        "cap = cv2.VideoCapture(0)\n",
        "\n",
        "while True:\n",
        "    ret, frame = cap.read()\n",
        "    gray = cv2.cvtColor(frame, cv2.COLOR_BGR2GRAY)\n",
        "\n",
        "    face_cascade = cv2.CascadeClassifier('/content/drive/My Drive/fer2013/haarcascade_frontalface_default.xml')\n",
        "    faces = face_cascade.detectMultiScale(gray, 1.3, 5)\n",
        "\n",
        "    for (x, y, w, h) in faces:\n",
        "        cv2.rectangle(frame, (x, y), (x + w, y + h), (0, 255, 0), 1)\n",
        "        roi_gray = gray[y:y + h, x:x + w]\n",
        "        cropped_img1 = cv2.resize(roi_gray, (48, 48))\n",
        "        yp=cropped_img1.reshape((1,900))\n",
        "        prediction = model.predict(yp)\n",
        "        cv2.putText(frame, emotion_dict[int(np.argmax(prediction))], (x, y), cv2.FONT_HERSHEY_SIMPLEX, 0.8, (0, 255, 0), 1, cv2.LINE_AA)\n",
        "\n",
        "    cv2.imshow('frame', frame)\n",
        "    if cv2.waitKey(1) & 0xFF == ord('q'):\n",
        "        break\n",
        "\n",
        "cap.release()\n",
        "cv2.destroyAllWindows()"
      ],
      "execution_count": 0,
      "outputs": []
    },
    {
      "cell_type": "code",
      "metadata": {
        "id": "ns7LiZhkGMcS",
        "colab_type": "code",
        "colab": {}
      },
      "source": [
        ""
      ],
      "execution_count": 0,
      "outputs": []
    }
  ]
}