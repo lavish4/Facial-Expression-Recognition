{
  "nbformat": 4,
  "nbformat_minor": 0,
  "metadata": {
    "colab": {
      "name": "FacialExpressionCNN.ipynb",
      "version": "0.3.2",
      "provenance": [],
      "collapsed_sections": []
    },
    "kernelspec": {
      "name": "python3",
      "display_name": "Python 3"
    },
    "accelerator": "GPU"
  },
  "cells": [
    {
      "metadata": {
        "id": "nG6NyLhIsFql",
        "colab_type": "code",
        "colab": {}
      },
      "cell_type": "code",
      "source": [
        "from google.colab import drive"
      ],
      "execution_count": 0,
      "outputs": []
    },
    {
      "metadata": {
        "id": "-Wk3PCJls1_g",
        "colab_type": "code",
        "colab": {
          "base_uri": "https://localhost:8080/",
          "height": 122
        },
        "outputId": "b8554d9c-fe3e-46c2-9e2e-610c18acbebd"
      },
      "cell_type": "code",
      "source": [
        "drive.mount('/content/drive')"
      ],
      "execution_count": 3,
      "outputs": [
        {
          "output_type": "stream",
          "text": [
            "Go to this URL in a browser: https://accounts.google.com/o/oauth2/auth?client_id=947318989803-6bn6qk8qdgf4n4g3pfee6491hc0brc4i.apps.googleusercontent.com&redirect_uri=urn%3Aietf%3Awg%3Aoauth%3A2.0%3Aoob&scope=email%20https%3A%2F%2Fwww.googleapis.com%2Fauth%2Fdocs.test%20https%3A%2F%2Fwww.googleapis.com%2Fauth%2Fdrive%20https%3A%2F%2Fwww.googleapis.com%2Fauth%2Fdrive.photos.readonly%20https%3A%2F%2Fwww.googleapis.com%2Fauth%2Fpeopleapi.readonly&response_type=code\n",
            "\n",
            "Enter your authorization code:\n",
            "··········\n",
            "Mounted at /content/drive\n"
          ],
          "name": "stdout"
        }
      ]
    },
    {
      "metadata": {
        "id": "PcymOBVKtyPp",
        "colab_type": "code",
        "colab": {
          "base_uri": "https://localhost:8080/",
          "height": 68
        },
        "outputId": "4027844a-5584-4354-c3dd-4be602520a91"
      },
      "cell_type": "code",
      "source": [
        "!ls \"/content/drive/My Drive/fer2013\""
      ],
      "execution_count": 4,
      "outputs": [
        {
          "output_type": "stream",
          "text": [
            "fer2013.bib\t    haarcascade_frontalface_default.xml  README\n",
            "fer2013.csv\t    jaffe\t\t\t\t tempimg.jpg\n",
            "fer2013model.ipynb  my_model.h5\t\t\t\t test_video.py\n"
          ],
          "name": "stdout"
        }
      ]
    },
    {
      "metadata": {
        "id": "mI_dxrkEt_4t",
        "colab_type": "code",
        "colab": {}
      },
      "cell_type": "code",
      "source": [
        "import pandas as pd\n",
        "\n",
        "data=pd.read_csv(\"/content/drive/My Drive/fer2013/fer2013.csv\")"
      ],
      "execution_count": 0,
      "outputs": []
    },
    {
      "metadata": {
        "id": "IvRWbx7zw4Th",
        "colab_type": "code",
        "colab": {
          "base_uri": "https://localhost:8080/",
          "height": 34
        },
        "outputId": "6aa63b16-58d9-415e-e9e3-e5e4a79c3c5d"
      },
      "cell_type": "code",
      "source": [
        "import numpy as np\n",
        "import matplotlib.pyplot as plt\n",
        "from keras.utils import to_categorical\n",
        "from keras.losses import categorical_crossentropy\n",
        "import keras\n",
        "from keras.models import Sequential\n",
        "from keras.layers import Conv2D,Flatten,Dropout,MaxPooling2D,Dense\n",
        "from sklearn.model_selection import train_test_split\n"
      ],
      "execution_count": 6,
      "outputs": [
        {
          "output_type": "stream",
          "text": [
            "Using TensorFlow backend.\n"
          ],
          "name": "stderr"
        }
      ]
    },
    {
      "metadata": {
        "id": "4rZ-j2vxvL0t",
        "colab_type": "code",
        "colab": {
          "base_uri": "https://localhost:8080/",
          "height": 359
        },
        "outputId": "2b418c87-9d04-43e3-d03c-200834fb4c14"
      },
      "cell_type": "code",
      "source": [
        "data.head(10)"
      ],
      "execution_count": 7,
      "outputs": [
        {
          "output_type": "execute_result",
          "data": {
            "text/html": [
              "<div>\n",
              "<style scoped>\n",
              "    .dataframe tbody tr th:only-of-type {\n",
              "        vertical-align: middle;\n",
              "    }\n",
              "\n",
              "    .dataframe tbody tr th {\n",
              "        vertical-align: top;\n",
              "    }\n",
              "\n",
              "    .dataframe thead th {\n",
              "        text-align: right;\n",
              "    }\n",
              "</style>\n",
              "<table border=\"1\" class=\"dataframe\">\n",
              "  <thead>\n",
              "    <tr style=\"text-align: right;\">\n",
              "      <th></th>\n",
              "      <th>emotion</th>\n",
              "      <th>pixels</th>\n",
              "      <th>Usage</th>\n",
              "    </tr>\n",
              "  </thead>\n",
              "  <tbody>\n",
              "    <tr>\n",
              "      <th>0</th>\n",
              "      <td>0</td>\n",
              "      <td>70 80 82 72 58 58 60 63 54 58 60 48 89 115 121...</td>\n",
              "      <td>Training</td>\n",
              "    </tr>\n",
              "    <tr>\n",
              "      <th>1</th>\n",
              "      <td>0</td>\n",
              "      <td>151 150 147 155 148 133 111 140 170 174 182 15...</td>\n",
              "      <td>Training</td>\n",
              "    </tr>\n",
              "    <tr>\n",
              "      <th>2</th>\n",
              "      <td>2</td>\n",
              "      <td>231 212 156 164 174 138 161 173 182 200 106 38...</td>\n",
              "      <td>Training</td>\n",
              "    </tr>\n",
              "    <tr>\n",
              "      <th>3</th>\n",
              "      <td>4</td>\n",
              "      <td>24 32 36 30 32 23 19 20 30 41 21 22 32 34 21 1...</td>\n",
              "      <td>Training</td>\n",
              "    </tr>\n",
              "    <tr>\n",
              "      <th>4</th>\n",
              "      <td>6</td>\n",
              "      <td>4 0 0 0 0 0 0 0 0 0 0 0 3 15 23 28 48 50 58 84...</td>\n",
              "      <td>Training</td>\n",
              "    </tr>\n",
              "    <tr>\n",
              "      <th>5</th>\n",
              "      <td>2</td>\n",
              "      <td>55 55 55 55 55 54 60 68 54 85 151 163 170 179 ...</td>\n",
              "      <td>Training</td>\n",
              "    </tr>\n",
              "    <tr>\n",
              "      <th>6</th>\n",
              "      <td>4</td>\n",
              "      <td>20 17 19 21 25 38 42 42 46 54 56 62 63 66 82 1...</td>\n",
              "      <td>Training</td>\n",
              "    </tr>\n",
              "    <tr>\n",
              "      <th>7</th>\n",
              "      <td>3</td>\n",
              "      <td>77 78 79 79 78 75 60 55 47 48 58 73 77 79 57 5...</td>\n",
              "      <td>Training</td>\n",
              "    </tr>\n",
              "    <tr>\n",
              "      <th>8</th>\n",
              "      <td>3</td>\n",
              "      <td>85 84 90 121 101 102 133 153 153 169 177 189 1...</td>\n",
              "      <td>Training</td>\n",
              "    </tr>\n",
              "    <tr>\n",
              "      <th>9</th>\n",
              "      <td>2</td>\n",
              "      <td>255 254 255 254 254 179 122 107 95 124 149 150...</td>\n",
              "      <td>Training</td>\n",
              "    </tr>\n",
              "  </tbody>\n",
              "</table>\n",
              "</div>"
            ],
            "text/plain": [
              "   emotion                                             pixels     Usage\n",
              "0        0  70 80 82 72 58 58 60 63 54 58 60 48 89 115 121...  Training\n",
              "1        0  151 150 147 155 148 133 111 140 170 174 182 15...  Training\n",
              "2        2  231 212 156 164 174 138 161 173 182 200 106 38...  Training\n",
              "3        4  24 32 36 30 32 23 19 20 30 41 21 22 32 34 21 1...  Training\n",
              "4        6  4 0 0 0 0 0 0 0 0 0 0 0 3 15 23 28 48 50 58 84...  Training\n",
              "5        2  55 55 55 55 55 54 60 68 54 85 151 163 170 179 ...  Training\n",
              "6        4  20 17 19 21 25 38 42 42 46 54 56 62 63 66 82 1...  Training\n",
              "7        3  77 78 79 79 78 75 60 55 47 48 58 73 77 79 57 5...  Training\n",
              "8        3  85 84 90 121 101 102 133 153 153 169 177 189 1...  Training\n",
              "9        2  255 254 255 254 254 179 122 107 95 124 149 150...  Training"
            ]
          },
          "metadata": {
            "tags": []
          },
          "execution_count": 7
        }
      ]
    },
    {
      "metadata": {
        "id": "nlwVlvAm-PZd",
        "colab_type": "code",
        "colab": {}
      },
      "cell_type": "code",
      "source": [
        "num_features = 64\n",
        "num_labels = 7\n",
        "width, height = 48, 48\n",
        "pixels = data['pixels'].tolist() # 1\n",
        "\n",
        "faces = []\n",
        "for pixel_sequence in pixels:\n",
        "    face = [int(pixel) for pixel in pixel_sequence.split(' ')] # 2\n",
        "    face=np.asarray(face).reshape(width,height)\n",
        "    faces.append(face)\n",
        "faces = np.asarray(faces)\n",
        "faces = np.expand_dims(faces, -1) # 6\n",
        "\n",
        "emotions = pd.get_dummies(data['emotion']).as_matrix()"
      ],
      "execution_count": 0,
      "outputs": []
    },
    {
      "metadata": {
        "id": "MKq2PQEfpOcB",
        "colab_type": "code",
        "colab": {}
      },
      "cell_type": "code",
      "source": [
        ""
      ],
      "execution_count": 0,
      "outputs": []
    },
    {
      "metadata": {
        "id": "MPyOSb-Y-bhy",
        "colab_type": "code",
        "colab": {
          "base_uri": "https://localhost:8080/",
          "height": 51
        },
        "outputId": "9ddbb5e6-1eff-4776-9d7b-a0a718a3705e"
      },
      "cell_type": "code",
      "source": [
        "print(faces.shape)\n",
        "print(emotions.shape)"
      ],
      "execution_count": 9,
      "outputs": [
        {
          "output_type": "stream",
          "text": [
            "(35887, 48, 48, 1)\n",
            "(35887, 7)\n"
          ],
          "name": "stdout"
        }
      ]
    },
    {
      "metadata": {
        "id": "MZZ1GvBRwWs1",
        "colab_type": "code",
        "colab": {}
      },
      "cell_type": "code",
      "source": [
        "X_train, X_test, y_train, y_test = train_test_split(faces,emotions, test_size=0.2, random_state=42)\n"
      ],
      "execution_count": 0,
      "outputs": []
    },
    {
      "metadata": {
        "id": "lAiUEEZQFmdR",
        "colab_type": "code",
        "colab": {}
      },
      "cell_type": "code",
      "source": [
        "from keras.preprocessing.image import ImageDataGenerator\n",
        "from sklearn.model_selection import train_test_split\n",
        "from keras.layers import Activation, Convolution2D, Dropout, Conv2D\n",
        "from keras.layers import AveragePooling2D, BatchNormalization\n",
        "from keras.layers import GlobalAveragePooling2D\n",
        "from keras.models import Sequential\n",
        "from keras.layers import Flatten\n",
        "from keras.models import Model\n",
        "from keras.layers import Input\n",
        "from keras.layers import MaxPooling2D\n",
        "from keras.layers import SeparableConv2D\n",
        "from keras import layers\n",
        "from keras.regularizers import l2\n",
        "import pandas as pd\n",
        "import cv2\n",
        "import numpy as np\n",
        "\n"
      ],
      "execution_count": 0,
      "outputs": []
    },
    {
      "metadata": {
        "id": "5kijTPbqFzIZ",
        "colab_type": "code",
        "colab": {
          "base_uri": "https://localhost:8080/",
          "height": 88
        },
        "outputId": "4b8ad8af-a44c-45e2-9065-7f582d4222ad"
      },
      "cell_type": "code",
      "source": [
        "batch_size = 32\n",
        "num_epochs = 100\n",
        "input_shape = (48, 48, 1)\n",
        "verbose = 1\n",
        "num_classes = 7\n",
        "patience = 50\n",
        "base_path = 'models/'\n",
        "l2_regularization=0.01\n",
        " \n",
        "# data generator\n",
        "data_generator = ImageDataGenerator(\n",
        "                        featurewise_center=False,\n",
        "                        featurewise_std_normalization=False,\n",
        "                        rotation_range=10,\n",
        "                        width_shift_range=0.1,\n",
        "                        height_shift_range=0.1,\n",
        "                        zoom_range=.1,\n",
        "                        horizontal_flip=True)\n",
        " \n",
        "# model parameters\n",
        "regularization = l2(l2_regularization)\n",
        " \n",
        "# base\n",
        "img_input = Input(input_shape)\n",
        "x = Conv2D(8, (3, 3), strides=(1, 1), kernel_regularizer=regularization, use_bias=False)(img_input)\n",
        "x = BatchNormalization()(x)\n",
        "x = Activation('relu')(x)\n",
        "x = Conv2D(8, (3, 3), strides=(1, 1), kernel_regularizer=regularization, use_bias=False)(x)\n",
        "x = BatchNormalization()(x)\n",
        "x = Activation('relu')(x)\n",
        " \n",
        "# module 1\n",
        "residual = Conv2D(16, (1, 1), strides=(2, 2), padding='same', use_bias=False)(x)\n",
        "residual = BatchNormalization()(residual)\n",
        "x = SeparableConv2D(16, (3, 3), padding='same', kernel_regularizer=regularization, use_bias=False)(x)\n",
        "x = BatchNormalization()(x)\n",
        "x = Activation('relu')(x)\n",
        "x = SeparableConv2D(16, (3, 3), padding='same', kernel_regularizer=regularization, use_bias=False)(x)\n",
        "x = BatchNormalization()(x)\n",
        "x = MaxPooling2D((3, 3), strides=(2, 2), padding='same')(x)\n",
        "x = layers.add([x, residual])\n",
        " \n",
        "# module 2\n",
        "residual = Conv2D(32, (1, 1), strides=(2, 2), padding='same', use_bias=False)(x)\n",
        "residual = BatchNormalization()(residual)\n",
        "x = SeparableConv2D(32, (3, 3), padding='same', kernel_regularizer=regularization, use_bias=False)(x)\n",
        "x = BatchNormalization()(x)\n",
        "x = Activation('relu')(x)\n",
        "x = SeparableConv2D(32, (3, 3), padding='same', kernel_regularizer=regularization, use_bias=False)(x)\n",
        "x = BatchNormalization()(x)\n",
        "x = MaxPooling2D((3, 3), strides=(2, 2), padding='same')(x)\n",
        "x = layers.add([x, residual])\n",
        " \n",
        "# module 3\n",
        "residual = Conv2D(64, (1, 1), strides=(2, 2),padding='same', use_bias=False)(x)\n",
        "residual = BatchNormalization()(residual)\n",
        "x = SeparableConv2D(64, (3, 3), padding='same',kernel_regularizer=regularization,use_bias=False)(x)\n",
        "x = BatchNormalization()(x)\n",
        "x = Activation('relu')(x)\n",
        "x = SeparableConv2D(64, (3, 3), padding='same',kernel_regularizer=regularization,use_bias=False)(x)\n",
        "x = BatchNormalization()(x)\n",
        "x = MaxPooling2D((3, 3), strides=(2, 2), padding='same')(x)\n",
        "x = layers.add([x, residual])\n",
        " \n",
        "# module 4\n",
        "residual = Conv2D(128, (1, 1), strides=(2, 2),padding='same', use_bias=False)(x)\n",
        "residual = BatchNormalization()(residual)\n",
        "x = SeparableConv2D(128, (3, 3), padding='same',kernel_regularizer=regularization,use_bias=False)(x)\n",
        "x = BatchNormalization()(x)\n",
        "x = Activation('relu')(x)\n",
        "x = SeparableConv2D(128, (3, 3), padding='same',kernel_regularizer=regularization,use_bias=False)(x)\n",
        "x = BatchNormalization()(x)\n",
        "x = MaxPooling2D((3, 3), strides=(2, 2), padding='same')(x)\n",
        "x = layers.add([x, residual])\n",
        "x = Conv2D(num_classes, (3, 3), padding='same')(x)\n",
        "x = GlobalAveragePooling2D()(x)\n",
        "output = Activation('softmax',name='predictions')(x)\n",
        " \n",
        "model = Model(img_input, output)\n",
        "model.compile(optimizer='adam', loss='categorical_crossentropy',metrics=['accuracy'])\n",
        " \n"
      ],
      "execution_count": 12,
      "outputs": [
        {
          "output_type": "stream",
          "text": [
            "WARNING:tensorflow:From /usr/local/lib/python3.6/dist-packages/tensorflow/python/framework/op_def_library.py:263: colocate_with (from tensorflow.python.framework.ops) is deprecated and will be removed in a future version.\n",
            "Instructions for updating:\n",
            "Colocations handled automatically by placer.\n"
          ],
          "name": "stdout"
        }
      ]
    },
    {
      "metadata": {
        "id": "Lgc-bFWRGAjg",
        "colab_type": "code",
        "colab": {
          "base_uri": "https://localhost:8080/",
          "height": 3505
        },
        "outputId": "0a48af0e-0602-4996-a949-b08fb1c470dd"
      },
      "cell_type": "code",
      "source": [
        "model.fit_generator(data_generator.flow(X_train,y_train,batch_size),\n",
        "                        steps_per_epoch=len(X_train) / batch_size,\n",
        "                        epochs=num_epochs, verbose=1)"
      ],
      "execution_count": 13,
      "outputs": [
        {
          "output_type": "stream",
          "text": [
            "WARNING:tensorflow:From /usr/local/lib/python3.6/dist-packages/tensorflow/python/ops/math_ops.py:3066: to_int32 (from tensorflow.python.ops.math_ops) is deprecated and will be removed in a future version.\n",
            "Instructions for updating:\n",
            "Use tf.cast instead.\n",
            "Epoch 1/100\n",
            "898/897 [==============================] - 49s 55ms/step - loss: 1.7782 - acc: 0.3274\n",
            "Epoch 2/100\n",
            "898/897 [==============================] - 45s 50ms/step - loss: 1.5300 - acc: 0.4275\n",
            "Epoch 3/100\n",
            "898/897 [==============================] - 44s 49ms/step - loss: 1.4085 - acc: 0.4726\n",
            "Epoch 4/100\n",
            "898/897 [==============================] - 45s 50ms/step - loss: 1.3433 - acc: 0.4983\n",
            "Epoch 5/100\n",
            "898/897 [==============================] - 45s 50ms/step - loss: 1.2982 - acc: 0.5134\n",
            "Epoch 6/100\n",
            "898/897 [==============================] - 44s 49ms/step - loss: 1.2567 - acc: 0.5285\n",
            "Epoch 7/100\n",
            "898/897 [==============================] - 45s 50ms/step - loss: 1.2249 - acc: 0.5424\n",
            "Epoch 8/100\n",
            "898/897 [==============================] - 44s 50ms/step - loss: 1.2061 - acc: 0.5476\n",
            "Epoch 9/100\n",
            "898/897 [==============================] - 45s 50ms/step - loss: 1.1884 - acc: 0.5551\n",
            "Epoch 10/100\n",
            "898/897 [==============================] - 45s 50ms/step - loss: 1.1690 - acc: 0.5638\n",
            "Epoch 11/100\n",
            "898/897 [==============================] - 44s 49ms/step - loss: 1.1516 - acc: 0.5691\n",
            "Epoch 12/100\n",
            "898/897 [==============================] - 44s 49ms/step - loss: 1.1411 - acc: 0.5715\n",
            "Epoch 13/100\n",
            "898/897 [==============================] - 45s 50ms/step - loss: 1.1250 - acc: 0.5790\n",
            "Epoch 14/100\n",
            "898/897 [==============================] - 44s 49ms/step - loss: 1.1164 - acc: 0.5809\n",
            "Epoch 15/100\n",
            "898/897 [==============================] - 44s 50ms/step - loss: 1.1111 - acc: 0.5852\n",
            "Epoch 16/100\n",
            "898/897 [==============================] - 45s 50ms/step - loss: 1.0943 - acc: 0.5881\n",
            "Epoch 17/100\n",
            "898/897 [==============================] - 45s 50ms/step - loss: 1.0925 - acc: 0.5906\n",
            "Epoch 18/100\n",
            "898/897 [==============================] - 45s 50ms/step - loss: 1.0772 - acc: 0.5984\n",
            "Epoch 19/100\n",
            "898/897 [==============================] - 44s 49ms/step - loss: 1.0762 - acc: 0.5974\n",
            "Epoch 20/100\n",
            "898/897 [==============================] - 44s 49ms/step - loss: 1.0673 - acc: 0.6024\n",
            "Epoch 21/100\n",
            "898/897 [==============================] - 44s 49ms/step - loss: 1.0623 - acc: 0.6019\n",
            "Epoch 22/100\n",
            "898/897 [==============================] - 45s 50ms/step - loss: 1.0596 - acc: 0.6037\n",
            "Epoch 23/100\n",
            "898/897 [==============================] - 44s 50ms/step - loss: 1.0506 - acc: 0.6040\n",
            "Epoch 24/100\n",
            "898/897 [==============================] - 44s 49ms/step - loss: 1.0408 - acc: 0.6095\n",
            "Epoch 25/100\n",
            "898/897 [==============================] - 44s 49ms/step - loss: 1.0414 - acc: 0.6130\n",
            "Epoch 26/100\n",
            "898/897 [==============================] - 44s 49ms/step - loss: 1.0291 - acc: 0.6144\n",
            "Epoch 27/100\n",
            "898/897 [==============================] - 44s 49ms/step - loss: 1.0264 - acc: 0.6191\n",
            "Epoch 28/100\n",
            "898/897 [==============================] - 44s 49ms/step - loss: 1.0217 - acc: 0.6180\n",
            "Epoch 29/100\n",
            "898/897 [==============================] - 45s 50ms/step - loss: 1.0124 - acc: 0.6199\n",
            "Epoch 30/100\n",
            "898/897 [==============================] - 46s 51ms/step - loss: 1.0112 - acc: 0.6213\n",
            "Epoch 31/100\n",
            "898/897 [==============================] - 45s 50ms/step - loss: 1.0121 - acc: 0.6204\n",
            "Epoch 32/100\n",
            "898/897 [==============================] - 45s 50ms/step - loss: 1.0110 - acc: 0.6214\n",
            "Epoch 33/100\n",
            "898/897 [==============================] - 45s 50ms/step - loss: 1.0013 - acc: 0.6255\n",
            "Epoch 34/100\n",
            "898/897 [==============================] - 45s 50ms/step - loss: 1.0018 - acc: 0.6277\n",
            "Epoch 35/100\n",
            "898/897 [==============================] - 45s 50ms/step - loss: 0.9963 - acc: 0.6261\n",
            "Epoch 36/100\n",
            "898/897 [==============================] - 45s 50ms/step - loss: 0.9965 - acc: 0.6269\n",
            "Epoch 37/100\n",
            "898/897 [==============================] - 45s 50ms/step - loss: 0.9894 - acc: 0.6335\n",
            "Epoch 38/100\n",
            "898/897 [==============================] - 46s 51ms/step - loss: 0.9935 - acc: 0.6319\n",
            "Epoch 39/100\n",
            "898/897 [==============================] - 46s 52ms/step - loss: 0.9838 - acc: 0.6328\n",
            "Epoch 40/100\n",
            "898/897 [==============================] - 46s 51ms/step - loss: 0.9810 - acc: 0.6321\n",
            "Epoch 41/100\n",
            "898/897 [==============================] - 45s 50ms/step - loss: 0.9772 - acc: 0.6355\n",
            "Epoch 42/100\n",
            "898/897 [==============================] - 44s 49ms/step - loss: 0.9746 - acc: 0.6366\n",
            "Epoch 43/100\n",
            "898/897 [==============================] - 45s 50ms/step - loss: 0.9753 - acc: 0.6367\n",
            "Epoch 44/100\n",
            "898/897 [==============================] - 44s 49ms/step - loss: 0.9726 - acc: 0.6369\n",
            "Epoch 45/100\n",
            "898/897 [==============================] - 45s 50ms/step - loss: 0.9699 - acc: 0.6403\n",
            "Epoch 46/100\n",
            "898/897 [==============================] - 44s 49ms/step - loss: 0.9644 - acc: 0.6385\n",
            "Epoch 47/100\n",
            "898/897 [==============================] - 44s 49ms/step - loss: 0.9616 - acc: 0.6432\n",
            "Epoch 48/100\n",
            "898/897 [==============================] - 46s 51ms/step - loss: 0.9646 - acc: 0.6398\n",
            "Epoch 49/100\n",
            "898/897 [==============================] - 45s 50ms/step - loss: 0.9528 - acc: 0.6458\n",
            "Epoch 50/100\n",
            "898/897 [==============================] - 45s 50ms/step - loss: 0.9558 - acc: 0.6438\n",
            "Epoch 51/100\n",
            "898/897 [==============================] - 44s 50ms/step - loss: 0.9553 - acc: 0.6424\n",
            "Epoch 52/100\n",
            "898/897 [==============================] - 45s 50ms/step - loss: 0.9503 - acc: 0.6449\n",
            "Epoch 53/100\n",
            "898/897 [==============================] - 45s 50ms/step - loss: 0.9536 - acc: 0.6429\n",
            "Epoch 54/100\n",
            "898/897 [==============================] - 46s 51ms/step - loss: 0.9476 - acc: 0.6464\n",
            "Epoch 55/100\n",
            "898/897 [==============================] - 45s 50ms/step - loss: 0.9392 - acc: 0.6507\n",
            "Epoch 56/100\n",
            "898/897 [==============================] - 45s 50ms/step - loss: 0.9379 - acc: 0.6507\n",
            "Epoch 57/100\n",
            "898/897 [==============================] - 45s 51ms/step - loss: 0.9414 - acc: 0.6494\n",
            "Epoch 58/100\n",
            "898/897 [==============================] - 44s 49ms/step - loss: 0.9453 - acc: 0.6496\n",
            "Epoch 59/100\n",
            "898/897 [==============================] - 45s 50ms/step - loss: 0.9413 - acc: 0.6494\n",
            "Epoch 60/100\n",
            "898/897 [==============================] - 44s 49ms/step - loss: 0.9341 - acc: 0.6515\n",
            "Epoch 61/100\n",
            "898/897 [==============================] - 44s 49ms/step - loss: 0.9328 - acc: 0.6537\n",
            "Epoch 62/100\n",
            "898/897 [==============================] - 45s 50ms/step - loss: 0.9341 - acc: 0.6491\n",
            "Epoch 63/100\n",
            "898/897 [==============================] - 44s 49ms/step - loss: 0.9329 - acc: 0.6503\n",
            "Epoch 64/100\n",
            "898/897 [==============================] - 45s 50ms/step - loss: 0.9288 - acc: 0.6547\n",
            "Epoch 65/100\n",
            "898/897 [==============================] - 46s 51ms/step - loss: 0.9275 - acc: 0.6528\n",
            "Epoch 66/100\n",
            "898/897 [==============================] - 46s 51ms/step - loss: 0.9272 - acc: 0.6553\n",
            "Epoch 67/100\n",
            "898/897 [==============================] - 45s 50ms/step - loss: 0.9237 - acc: 0.6556\n",
            "Epoch 68/100\n",
            "898/897 [==============================] - 44s 49ms/step - loss: 0.9206 - acc: 0.6561\n",
            "Epoch 69/100\n",
            "898/897 [==============================] - 44s 49ms/step - loss: 0.9189 - acc: 0.6585\n",
            "Epoch 70/100\n",
            "898/897 [==============================] - 45s 51ms/step - loss: 0.9144 - acc: 0.6558\n",
            "Epoch 71/100\n",
            "898/897 [==============================] - 46s 51ms/step - loss: 0.9190 - acc: 0.6577\n",
            "Epoch 72/100\n",
            "898/897 [==============================] - 46s 51ms/step - loss: 0.9163 - acc: 0.6596\n",
            "Epoch 73/100\n",
            "898/897 [==============================] - 46s 51ms/step - loss: 0.9123 - acc: 0.6620\n",
            "Epoch 74/100\n",
            "898/897 [==============================] - 46s 51ms/step - loss: 0.9110 - acc: 0.6576\n",
            "Epoch 75/100\n",
            "898/897 [==============================] - 46s 52ms/step - loss: 0.9140 - acc: 0.6590\n",
            "Epoch 76/100\n",
            "898/897 [==============================] - 46s 51ms/step - loss: 0.9065 - acc: 0.6631\n",
            "Epoch 77/100\n",
            "898/897 [==============================] - 45s 50ms/step - loss: 0.9038 - acc: 0.6677\n",
            "Epoch 78/100\n",
            "898/897 [==============================] - 44s 50ms/step - loss: 0.9100 - acc: 0.6603\n",
            "Epoch 79/100\n",
            "898/897 [==============================] - 45s 50ms/step - loss: 0.9087 - acc: 0.6618\n",
            "Epoch 80/100\n",
            "898/897 [==============================] - 45s 50ms/step - loss: 0.9070 - acc: 0.6622\n",
            "Epoch 81/100\n",
            "898/897 [==============================] - 44s 49ms/step - loss: 0.9001 - acc: 0.6645\n",
            "Epoch 82/100\n",
            "898/897 [==============================] - 44s 49ms/step - loss: 0.8998 - acc: 0.6642\n",
            "Epoch 83/100\n",
            "898/897 [==============================] - 44s 49ms/step - loss: 0.9006 - acc: 0.6630\n",
            "Epoch 84/100\n",
            "898/897 [==============================] - 45s 50ms/step - loss: 0.9052 - acc: 0.6630\n",
            "Epoch 85/100\n",
            "898/897 [==============================] - 46s 51ms/step - loss: 0.8951 - acc: 0.6679\n",
            "Epoch 86/100\n",
            "898/897 [==============================] - 46s 51ms/step - loss: 0.8984 - acc: 0.6647\n",
            "Epoch 87/100\n",
            "898/897 [==============================] - 45s 50ms/step - loss: 0.8998 - acc: 0.6633\n",
            "Epoch 88/100\n",
            "898/897 [==============================] - 44s 49ms/step - loss: 0.8954 - acc: 0.6649\n",
            "Epoch 89/100\n",
            "898/897 [==============================] - 45s 50ms/step - loss: 0.8884 - acc: 0.6697\n",
            "Epoch 90/100\n",
            "898/897 [==============================] - 45s 50ms/step - loss: 0.8930 - acc: 0.6646\n",
            "Epoch 91/100\n",
            "898/897 [==============================] - 45s 51ms/step - loss: 0.8948 - acc: 0.6699\n",
            "Epoch 92/100\n",
            "898/897 [==============================] - 46s 51ms/step - loss: 0.8884 - acc: 0.6680\n",
            "Epoch 93/100\n",
            "898/897 [==============================] - 45s 50ms/step - loss: 0.8840 - acc: 0.6725\n",
            "Epoch 94/100\n",
            "898/897 [==============================] - 46s 51ms/step - loss: 0.8874 - acc: 0.6693\n",
            "Epoch 95/100\n",
            "898/897 [==============================] - 45s 50ms/step - loss: 0.8846 - acc: 0.6718\n",
            "Epoch 96/100\n",
            "898/897 [==============================] - 45s 50ms/step - loss: 0.8841 - acc: 0.6715\n",
            "Epoch 97/100\n",
            "898/897 [==============================] - 45s 50ms/step - loss: 0.8835 - acc: 0.6710\n",
            "Epoch 98/100\n",
            "898/897 [==============================] - 44s 49ms/step - loss: 0.8807 - acc: 0.6696\n",
            "Epoch 99/100\n",
            "898/897 [==============================] - 44s 49ms/step - loss: 0.8833 - acc: 0.6702\n",
            "Epoch 100/100\n",
            "898/897 [==============================] - 44s 49ms/step - loss: 0.8778 - acc: 0.6725\n"
          ],
          "name": "stdout"
        },
        {
          "output_type": "execute_result",
          "data": {
            "text/plain": [
              "<keras.callbacks.History at 0x7ff039e2bd30>"
            ]
          },
          "metadata": {
            "tags": []
          },
          "execution_count": 13
        }
      ]
    },
    {
      "metadata": {
        "id": "VvVvHNqy71Qx",
        "colab_type": "code",
        "colab": {
          "base_uri": "https://localhost:8080/",
          "height": 51
        },
        "outputId": "45afbd43-153b-40c7-b5b2-07eff834f7e4"
      },
      "cell_type": "code",
      "source": [
        "predictions=model.predict(X_test)\n",
        "acc = model.evaluate(X_test, y_test)\n",
        "print(acc[1])"
      ],
      "execution_count": 25,
      "outputs": [
        {
          "output_type": "stream",
          "text": [
            "7178/7178 [==============================] - 2s 274us/step\n",
            "0.6310950125466153\n"
          ],
          "name": "stdout"
        }
      ]
    },
    {
      "metadata": {
        "id": "O_dKRwqbY2tB",
        "colab_type": "text"
      },
      "cell_type": "markdown",
      "source": [
        ""
      ]
    },
    {
      "metadata": {
        "id": "tKvG8RHeYB2L",
        "colab_type": "code",
        "colab": {
          "base_uri": "https://localhost:8080/",
          "height": 34
        },
        "outputId": "8be023f3-a6be-4a24-c965-570aa28f1eec"
      },
      "cell_type": "code",
      "source": [
        "print(X_test.shape)"
      ],
      "execution_count": 24,
      "outputs": [
        {
          "output_type": "stream",
          "text": [
            "(7178, 48, 48, 1)\n"
          ],
          "name": "stdout"
        }
      ]
    },
    {
      "metadata": {
        "id": "7dwC-eCkElGs",
        "colab_type": "code",
        "colab": {}
      },
      "cell_type": "code",
      "source": [
        "model.save('/content/drive/My Drive/fer2013/my_models.h5') "
      ],
      "execution_count": 0,
      "outputs": []
    },
    {
      "metadata": {
        "id": "_XNG50PgEwaK",
        "colab_type": "code",
        "colab": {}
      },
      "cell_type": "code",
      "source": [
        "from keras.models import load_model\n",
        "import cv2\n",
        "emotion_dict = {0: \"Angry\", 1: \"Disgust\", 2: \"Fear\", 3: \"Happy\", 4: \"Sad\", 5: \"Surprise\", 6: \"Neutral\"}\n",
        "\n",
        "model = load_model('/content/drive/My Drive/fer2013/my_models.h5')\n",
        "\n",
        "cap = cv2.VideoCapture(0)\n",
        "\n",
        "while True:\n",
        "    ret, frame = cap.read()\n",
        "    gray = cv2.cvtColor(frame, cv2.COLOR_BGR2GRAY)\n",
        "\n",
        "    face_cascade = cv2.CascadeClassifier('/content/drive/My Drive/fer2013/haarcascade_frontalface_default.xml')\n",
        "    faces = face_cascade.detectMultiScale(gray, 1.3, 5)\n",
        "\n",
        "    for (x, y, w, h) in faces:\n",
        "        cv2.rectangle(frame, (x, y), (x + w, y + h), (0, 255, 0), 1)\n",
        "        roi_gray = gray[y:y + h, x:x + w]\n",
        "        cropped_img1 = cv2.resize(roi_gray, (48, 48))\n",
        "        yp=cropped_img1.reshape((1,900))\n",
        "        prediction = model.predict(yp)\n",
        "        cv2.putText(frame, emotion_dict[int(np.argmax(prediction))], (x, y), cv2.FONT_HERSHEY_SIMPLEX, 0.8, (0, 255, 0), 1, cv2.LINE_AA)\n",
        "\n",
        "    cv2.imshow('frame', frame)\n",
        "    if cv2.waitKey(1) & 0xFF == ord('q'):\n",
        "        break\n",
        "\n",
        "cap.release()\n",
        "cv2.destroyAllWindows()"
      ],
      "execution_count": 0,
      "outputs": []
    },
    {
      "metadata": {
        "id": "ns7LiZhkGMcS",
        "colab_type": "code",
        "colab": {}
      },
      "cell_type": "code",
      "source": [
        ""
      ],
      "execution_count": 0,
      "outputs": []
    }
  ]
}
